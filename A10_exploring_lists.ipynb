{
  "nbformat": 4,
  "nbformat_minor": 0,
  "metadata": {
    "colab": {
      "provenance": [],
      "toc_visible": true,
      "include_colab_link": true
    },
    "kernelspec": {
      "name": "python3",
      "display_name": "Python 3"
    },
    "language_info": {
      "name": "python"
    }
  },
  "cells": [
    {
      "cell_type": "markdown",
      "metadata": {
        "id": "view-in-github",
        "colab_type": "text"
      },
      "source": [
        "<a href=\"https://colab.research.google.com/github/LakshmiAhala/python_101/blob/main/A10_exploring_lists.ipynb\" target=\"_parent\"><img src=\"https://colab.research.google.com/assets/colab-badge.svg\" alt=\"Open In Colab\"/></a>"
      ]
    },
    {
      "cell_type": "markdown",
      "source": [
        "# Lists\n"
      ],
      "metadata": {
        "id": "HpIJY9lvgjMV"
      }
    },
    {
      "cell_type": "markdown",
      "source": [
        "* https://www.w3schools.com/python/python_ref_list.asp  (Python List Methods)\n",
        "* https://www.w3schools.com/python/python_ref_functions.asp (Python Built-in Functions)"
      ],
      "metadata": {
        "id": "imH1nSNBUuG_"
      }
    },
    {
      "cell_type": "code",
      "source": [
        "#@title Lists: An Introduction\n",
        "\n",
        "#Data Type\n",
        "#List Type\n",
        "\n",
        "y = [10, 50, \"python\", False, 5.6]\n",
        "print(y)"
      ],
      "metadata": {
        "id": "iE_KtgxUn4at",
        "colab": {
          "base_uri": "https://localhost:8080/"
        },
        "outputId": "92871b1a-9951-4dc8-a696-de9375abe588"
      },
      "execution_count": null,
      "outputs": [
        {
          "output_type": "stream",
          "name": "stdout",
          "text": [
            "[10, 50, 'python', False, 5.6]\n"
          ]
        }
      ]
    },
    {
      "cell_type": "code",
      "source": [
        "#@title 1.Creating an empty list\n",
        "x = []\n",
        "print(x)\n",
        "print(\"Length of this list: \", len(x))"
      ],
      "metadata": {
        "id": "4GnRakGpUz8V",
        "colab": {
          "base_uri": "https://localhost:8080/"
        },
        "outputId": "ef0270ca-e3fa-415d-e04f-d059e5218d58"
      },
      "execution_count": null,
      "outputs": [
        {
          "output_type": "stream",
          "name": "stdout",
          "text": [
            "[]\n",
            "Length of this list:  0\n"
          ]
        }
      ]
    },
    {
      "cell_type": "code",
      "source": [
        "#@title 2.Creating a list with some elements\n",
        "a = [10, 20, 30]\n",
        "print(a)"
      ],
      "metadata": {
        "id": "uCm9yPLDU0O0",
        "colab": {
          "base_uri": "https://localhost:8080/"
        },
        "outputId": "6bcb9b61-15de-4b24-9728-b3f081a6e68a"
      },
      "execution_count": null,
      "outputs": [
        {
          "output_type": "stream",
          "name": "stdout",
          "text": [
            "[10, 20, 30]\n"
          ]
        }
      ]
    },
    {
      "cell_type": "code",
      "source": [
        "#@title 3.Adding elements at the end\n",
        "b =[10, 11, 33]\n",
        "b.append(-1)\n",
        "b.append(6)\n",
        "b.append(\"True\")\n",
        "b.append(\"Ahala\")\n",
        "b.append(2.7)\n",
        "print(b)"
      ],
      "metadata": {
        "id": "rEpmqm7MU0Si",
        "colab": {
          "base_uri": "https://localhost:8080/"
        },
        "outputId": "93d064b6-4b5c-439b-b13b-d5cc8b209895"
      },
      "execution_count": null,
      "outputs": [
        {
          "output_type": "stream",
          "name": "stdout",
          "text": [
            "[10, 11, 33, -1, 6, 'True', 'Ahala', 2.7]\n"
          ]
        }
      ]
    },
    {
      "cell_type": "code",
      "source": [
        "#@title 4.Accessing an element (positive index)\n",
        "# also known as \"Reading an element\"\n",
        "# also known as \"Setting an element\"\n",
        "\n",
        "z = [5,6,7,8,9]\n",
        "\n",
        "third = z[2]\n",
        "print(\"The third element in the list is: \", third)\n",
        "\n",
        "fifth = z[4]\n",
        "print(\"The fifth element in the list is: \", fifth)"
      ],
      "metadata": {
        "id": "AMTpZsLMU0Vr",
        "colab": {
          "base_uri": "https://localhost:8080/"
        },
        "outputId": "b256ad81-18fd-493c-c85b-5a5ecdc4137c"
      },
      "execution_count": null,
      "outputs": [
        {
          "output_type": "stream",
          "name": "stdout",
          "text": [
            "The third element in the list is:  7\n",
            "The fifth element in the list is:  9\n"
          ]
        }
      ]
    },
    {
      "cell_type": "code",
      "source": [
        "#@title 5.Accessing an element (through Negative Indexing)\n",
        "# also known as \"Reading an element\"\n",
        "# also known as \"Setting an element\"\n",
        "\n",
        "m = [10, 45, 67, -56, \"code\", 3, 11, -12, 100, 97, -56, \"code\", \"hi\", \"bff\", \"Ahala\", 67, 45, 11 ]\n",
        "count = len(m)\n",
        "last_element = m[count-1]\n",
        "print(\"The last element is: \", last_element)"
      ],
      "metadata": {
        "id": "VWaPKymnXdtx",
        "colab": {
          "base_uri": "https://localhost:8080/"
        },
        "outputId": "c2ea62da-74be-4954-ee4e-d49a79a898f3"
      },
      "execution_count": null,
      "outputs": [
        {
          "output_type": "stream",
          "name": "stdout",
          "text": [
            "The last element is:  11\n"
          ]
        }
      ]
    },
    {
      "cell_type": "code",
      "source": [
        "#@title 6.Adding an element at the front of the list\n",
        "\n",
        "my_list = [11,22,33]\n",
        "\n",
        "# Add 44 at the front of the list\n",
        "my_list.insert(0,44)\n",
        "print(my_list)\n",
        "\n",
        "# Add -13 at position 3 in the list\n",
        "my_list.insert(2, -13)\n",
        "print(my_list)\n",
        "\n",
        "# Add \"Jane\" at position 5 in the list\n",
        "my_list.insert(4, \"Jane\")\n",
        "print(my_list)"
      ],
      "metadata": {
        "id": "dSKr5_20U0YS",
        "colab": {
          "base_uri": "https://localhost:8080/"
        },
        "outputId": "edcf1ebe-fe5b-4d26-994b-8b886f3bbce8"
      },
      "execution_count": null,
      "outputs": [
        {
          "output_type": "stream",
          "name": "stdout",
          "text": [
            "[44, 11, 22, 33]\n",
            "[44, 11, -13, 22, 33]\n",
            "[44, 11, -13, 22, 'Jane', 33]\n"
          ]
        }
      ]
    },
    {
      "cell_type": "code",
      "source": [
        "#@title 7.Adding an element anywhere (at a specific index) \n",
        "\n",
        "my_list = [1,2,3]\n",
        "print(my_list)\n",
        "\n",
        "# Add 30 at position 3\n",
        "my_list.insert(2, 30)\n",
        "print(my_list)"
      ],
      "metadata": {
        "id": "jvMJf2-2U0bM",
        "colab": {
          "base_uri": "https://localhost:8080/"
        },
        "outputId": "2a2ace18-110c-49c1-a3db-fef2e25bea33"
      },
      "execution_count": null,
      "outputs": [
        {
          "output_type": "stream",
          "name": "stdout",
          "text": [
            "[1, 2, 3]\n",
            "[1, 2, 30, 3]\n"
          ]
        }
      ]
    },
    {
      "cell_type": "code",
      "source": [
        "#@title 8.Updating (or Replacing) an element\n",
        "\n",
        "# List 1\n",
        "my_list = [1,2,3]\n",
        "print(\"List 1\")\n",
        "print(my_list)\n",
        "\n",
        "# Replace the third element with 6\n",
        "my_list[2] = 6\n",
        "print(my_list)\n",
        "\n",
        "# Replace the first element with 2\n",
        "my_list[0] = 2\n",
        "print(my_list)\n",
        "\n",
        "# Replace the second element with 4\n",
        "my_list[1] = 4\n",
        "print(my_list) \n",
        "\n",
        "# List 2\n",
        "list = [1,2,3]\n",
        "print(\"\\nList 2\")\n",
        "print(list)\n",
        "\n",
        "# Replace the second element with 5\n",
        "list[1] = 5\n",
        "print(list)\n",
        "\n",
        "# Replace the first element with BFF\n",
        "list[0] = \"BFF\"\n",
        "print(list)"
      ],
      "metadata": {
        "id": "DUG9xlraaTlO",
        "colab": {
          "base_uri": "https://localhost:8080/"
        },
        "outputId": "cfab1b6a-ee83-43ef-8432-b11b8b544155"
      },
      "execution_count": null,
      "outputs": [
        {
          "output_type": "stream",
          "name": "stdout",
          "text": [
            "List 1\n",
            "[1, 2, 3]\n",
            "[1, 2, 6]\n",
            "[2, 2, 6]\n",
            "[2, 4, 6]\n",
            "\n",
            "List 2\n",
            "[1, 2, 3]\n",
            "[1, 5, 3]\n",
            "['BFF', 5, 3]\n"
          ]
        }
      ]
    },
    {
      "cell_type": "code",
      "source": [
        "#@title 9.Looping through the list (just for READING)\\\n",
        "\n",
        "# Printing every element\n",
        "\n",
        "my_list = [1,2,3,4,5]\n",
        "\n",
        "for x in my_list:\n",
        "    print(x)\n",
        "    \n",
        "# Finding sum using loop\n",
        "\n",
        "my_list = [1,2,3,4,5]\n",
        "\n",
        "total = 0\n",
        "\n",
        "for x in my_list:\n",
        "    total = total + x\n",
        "    \n",
        "print(\"Total of the list: \", total)\n",
        "\n",
        "# Finding the sum using the built-in function\n",
        "total = sum(my_list)\n",
        "print(\"Total of the list: \", total)"
      ],
      "metadata": {
        "id": "F6P3NNhFU0j8",
        "colab": {
          "base_uri": "https://localhost:8080/"
        },
        "outputId": "dcf0c93b-331e-47c6-e815-2a0ad6f159ab"
      },
      "execution_count": null,
      "outputs": [
        {
          "output_type": "stream",
          "name": "stdout",
          "text": [
            "1\n",
            "2\n",
            "3\n",
            "4\n",
            "5\n",
            "Total of the list:  15\n",
            "Total of the list:  15\n"
          ]
        }
      ]
    },
    {
      "cell_type": "code",
      "source": [
        "#@title 10.Looping through the list (for UPDATING)\n",
        "\n",
        "my_list = [1, 3, 5, 7, 9]\n",
        "\n",
        "length = len(my_list)\n",
        "\n",
        "for i in range(length):\n",
        "  current_element = my_list[i]\n",
        "  print(current_element)"
      ],
      "metadata": {
        "id": "QFJmGzYOU0nG",
        "colab": {
          "base_uri": "https://localhost:8080/"
        },
        "outputId": "61ef5f21-5400-435a-e13d-861b9a951f97"
      },
      "execution_count": null,
      "outputs": [
        {
          "output_type": "stream",
          "name": "stdout",
          "text": [
            "1\n",
            "3\n",
            "5\n",
            "7\n",
            "9\n"
          ]
        }
      ]
    },
    {
      "cell_type": "code",
      "source": [
        "#@title 11.Common Operations: Find the length of the list\n",
        "# Find the number of elements in the list\n",
        "\n",
        "my_list = [5,6,7,8,9]\n",
        "length = len(my_list)\n",
        "print(\"Number of elements in this list is: \", length)"
      ],
      "metadata": {
        "id": "_OiuJHIeU0p6",
        "colab": {
          "base_uri": "https://localhost:8080/"
        },
        "outputId": "90bf8e1d-8dcc-4f29-f901-1c317560758c"
      },
      "execution_count": null,
      "outputs": [
        {
          "output_type": "stream",
          "name": "stdout",
          "text": [
            "Number of elements in this list is:  5\n"
          ]
        }
      ]
    },
    {
      "cell_type": "code",
      "source": [
        "#@title 12.Common Operations: Find the maximum in the list\n",
        "\n",
        "my_list = [1,6,4,5,8,9,7,3,2,0]\n",
        "max1 = max(1,6,4,5,8,9,7,3,2,0)\n",
        "\n",
        "print(\"The maximum element in this list is: \", max1)"
      ],
      "metadata": {
        "id": "IhGhO_XxU0tB",
        "colab": {
          "base_uri": "https://localhost:8080/"
        },
        "outputId": "b91c2d43-5ba7-42d1-ebde-6b1c971df13b"
      },
      "execution_count": null,
      "outputs": [
        {
          "output_type": "stream",
          "name": "stdout",
          "text": [
            "The maximum element in this list is:  9\n"
          ]
        }
      ]
    },
    {
      "cell_type": "code",
      "source": [
        "#@title 13.Common Operations: Find the minimum in the list\n",
        "\n",
        "my_list = [2,5,8,6,4,1,0,9,3,7]\n",
        "min1 = min(2,5,8,6,4,1,0,9,3,7)\n",
        "\n",
        "print(\"The minimum element in this list is: \", min1)"
      ],
      "metadata": {
        "id": "D4vmqhUHYaVC",
        "colab": {
          "base_uri": "https://localhost:8080/"
        },
        "outputId": "28344306-c237-4355-ab30-f4ace8642a05"
      },
      "execution_count": null,
      "outputs": [
        {
          "output_type": "stream",
          "name": "stdout",
          "text": [
            "The minimum element in this list is:  0\n"
          ]
        }
      ]
    },
    {
      "cell_type": "code",
      "source": [
        "#@title 14.Common Operations: Find the sum of elements in the list\n",
        "\n",
        "# Example 1\n",
        "my_list1 = [23,89]\n",
        "total1 = sum(my_list)\n",
        "print(\"The sum of the elements is: \", total1)\n",
        "\n",
        "# Example 2\n",
        "\n",
        "my_list2 = [78, 65] \n",
        "total2 = sum(my_list1)\n",
        "print(\"The sum of the elements is: \", total2)"
      ],
      "metadata": {
        "id": "ULNy2XkGYd5g",
        "colab": {
          "base_uri": "https://localhost:8080/"
        },
        "outputId": "62f64305-973b-430a-b06b-d68aa7b5eb33"
      },
      "execution_count": null,
      "outputs": [
        {
          "output_type": "stream",
          "name": "stdout",
          "text": [
            "The sum of the elements is:  112\n",
            "The sum of the elements is:  112\n"
          ]
        }
      ]
    },
    {
      "cell_type": "code",
      "source": [
        "#@title 14.Removing an element by value\n",
        "\n",
        "my_list = [2,3]\n",
        "print(\"The list before removing an element: \", my_list)\n",
        "\n",
        "# Removing 3\n",
        "my_list.remove(3)\n",
        "print(\"List after removing an element: \", my_list)"
      ],
      "metadata": {
        "id": "8UfCeQSpYwFB",
        "colab": {
          "base_uri": "https://localhost:8080/"
        },
        "outputId": "4a38887a-94b5-47b2-c8be-56ee138e3b10"
      },
      "execution_count": null,
      "outputs": [
        {
          "output_type": "stream",
          "name": "stdout",
          "text": [
            "The list before removing an element:  [2, 3]\n",
            "List after removing an element:  [2]\n"
          ]
        }
      ]
    },
    {
      "cell_type": "code",
      "source": [
        "#@title 15.Removing the last element in the list\n",
        "\n",
        "my_list = [1,2,3]\n",
        "length = len(my_list)\n",
        "print(\"List before removing the last element\", my_list)\n",
        "\n",
        "# Removing the last element\n",
        "del my_list[length - 1]\n",
        "print(\"List after removing the last element: \", my_list)"
      ],
      "metadata": {
        "id": "8pLgwYe0YwOY",
        "colab": {
          "base_uri": "https://localhost:8080/"
        },
        "outputId": "eba83ab2-2f2d-4e1c-fb94-fb19ab05bdc6"
      },
      "execution_count": null,
      "outputs": [
        {
          "output_type": "stream",
          "name": "stdout",
          "text": [
            "List before removing the last element [1, 2, 3]\n",
            "List after removing the last element:  [1, 2]\n"
          ]
        }
      ]
    },
    {
      "cell_type": "code",
      "source": [
        "#@title 16.Removing an element at a given index\n",
        "\n",
        "my_list = [1, 2, 3, 4, 5]\n",
        "print(\"List before removing the element\", my_list)\n",
        "\n",
        "# Removing the 4th element\n",
        "del my_list[3]\n",
        "print(\"List after removing the 4th element: \", my_list)\n",
        "\n",
        "# Removing the 2nd element\n",
        "del my_list[1]\n",
        "print(\"List after removing the 2nd element: \", my_list)"
      ],
      "metadata": {
        "id": "2jpc-7ppYwb_",
        "colab": {
          "base_uri": "https://localhost:8080/"
        },
        "outputId": "019ed724-a7a2-45d5-d155-d5cf67aed6cf"
      },
      "execution_count": null,
      "outputs": [
        {
          "output_type": "stream",
          "name": "stdout",
          "text": [
            "List before removing the element [1, 2, 3, 4, 5]\n",
            "List after removing the 4th element:  [1, 2, 3, 5]\n",
            "List after removing the 2nd element:  [1, 3, 5]\n",
            "List after removing the 1st element:  [3, 5]\n"
          ]
        }
      ]
    },
    {
      "cell_type": "code",
      "source": [
        "#@title 17.Extending a list\n",
        "#(Adding several elements to one list)\n"
      ],
      "metadata": {
        "id": "f9CutvMNYwn6"
      },
      "execution_count": null,
      "outputs": []
    },
    {
      "cell_type": "code",
      "source": [
        "#@title 18.Search for an element. What is the index?\n"
      ],
      "metadata": {
        "id": "S7JBtxoufmw0"
      },
      "execution_count": null,
      "outputs": []
    },
    {
      "cell_type": "code",
      "source": [
        "#@title 19.Count the number of times an element is appearing\n",
        "\n"
      ],
      "metadata": {
        "id": "xtYWNnRUfykZ"
      },
      "execution_count": null,
      "outputs": []
    },
    {
      "cell_type": "code",
      "execution_count": null,
      "metadata": {
        "colab": {
          "base_uri": "https://localhost:8080/"
        },
        "id": "HzdJE7DjkZ7-",
        "outputId": "a130b59c-5076-4038-bd11-b8989a6246f8"
      },
      "outputs": [
        {
          "output_type": "stream",
          "name": "stdout",
          "text": [
            "54.3 ns ± 5.4 ns per loop (mean ± std. dev. of 7 runs, 10000000 loops each)\n"
          ]
        }
      ],
      "source": [
        "#@title 20.Checking for Membership (in)"
      ]
    },
    {
      "cell_type": "code",
      "source": [
        "#@title 21.Checking for Membership (not in)"
      ],
      "metadata": {
        "id": "0jlu0amZfUYv"
      },
      "execution_count": null,
      "outputs": []
    },
    {
      "cell_type": "code",
      "source": [
        "#@title 22.Reverse a list\n"
      ],
      "metadata": {
        "id": "4ss-JZlugMdZ"
      },
      "execution_count": null,
      "outputs": []
    },
    {
      "cell_type": "code",
      "source": [
        "#@title 23.Sort a list\n"
      ],
      "metadata": {
        "id": "XNEHDoaFgop0"
      },
      "execution_count": null,
      "outputs": []
    },
    {
      "cell_type": "code",
      "source": [
        "#@title 24.Copy a list (Caution: Don't reassign)\n"
      ],
      "metadata": {
        "id": "OKubdzAkhAzu"
      },
      "execution_count": null,
      "outputs": []
    },
    {
      "cell_type": "code",
      "source": [
        "#@title 25.Clear (Empty) a list\n",
        "#Delete all the elements in the list\n"
      ],
      "metadata": {
        "id": "EtzP3vuKgt8T"
      },
      "execution_count": null,
      "outputs": []
    },
    {
      "cell_type": "code",
      "source": [
        "#@title 26.Delete the entire list"
      ],
      "metadata": {
        "id": "Kio7904Bh1uk"
      },
      "execution_count": null,
      "outputs": []
    },
    {
      "cell_type": "code",
      "source": [
        "#@title 27.Cool Operation: You can add lists"
      ],
      "metadata": {
        "id": "xrsUOIOmiGT7"
      },
      "execution_count": null,
      "outputs": []
    },
    {
      "cell_type": "code",
      "source": [
        "#@title 28.Cool Operation: You can multiply/repeat a list"
      ],
      "metadata": {
        "id": "daHyLToliKFa"
      },
      "execution_count": null,
      "outputs": []
    },
    {
      "cell_type": "code",
      "source": [
        "#@title 29.Cool Operation: You can convert a range to a list"
      ],
      "metadata": {
        "id": "72Cxp55ziPoa"
      },
      "execution_count": null,
      "outputs": []
    },
    {
      "cell_type": "code",
      "source": [
        "#@title 30.Common Operations: Find the length (Using Built-in Function)"
      ],
      "metadata": {
        "id": "ubwosLZvYiPv"
      },
      "execution_count": null,
      "outputs": []
    },
    {
      "cell_type": "code",
      "source": [
        "#@title 31.Common Operations: Find the maximum in the list (Using Built-in Function)"
      ],
      "metadata": {
        "id": "bsYWoh8viya7"
      },
      "execution_count": null,
      "outputs": []
    },
    {
      "cell_type": "code",
      "source": [
        "#@title 32.Common Operations: Find the minimum in the list (Using Built-in Function)"
      ],
      "metadata": {
        "id": "_dXOQIhsi88b"
      },
      "execution_count": null,
      "outputs": []
    },
    {
      "cell_type": "code",
      "source": [
        "#@title 33.Common Operations: Find the sum of elements in the list (Using Built-in Function)"
      ],
      "metadata": {
        "id": "EDcj1HkdjIXD"
      },
      "execution_count": null,
      "outputs": []
    },
    {
      "cell_type": "code",
      "source": [
        "#@title 34.Common Operations: Find the average of elements in the list (Using Built-in Function)"
      ],
      "metadata": {
        "id": "rQwWmGsnjMG0"
      },
      "execution_count": null,
      "outputs": []
    },
    {
      "cell_type": "code",
      "source": [
        "#@title 35.Common Operations: Find whether the list has any duplicate elements"
      ],
      "metadata": {
        "id": "YuaeC0FVjU81"
      },
      "execution_count": null,
      "outputs": []
    },
    {
      "cell_type": "code",
      "source": [
        "#@title 36.Common Operations: Multiply / Divide / Do something to every element in the list"
      ],
      "metadata": {
        "id": "6ENoMN_Pjr1t"
      },
      "execution_count": null,
      "outputs": []
    },
    {
      "cell_type": "code",
      "source": [
        "#@title 37.List Unpacking (N to <N mapping)"
      ],
      "metadata": {
        "id": "4UgT1N2MkFY6"
      },
      "execution_count": null,
      "outputs": []
    },
    {
      "cell_type": "code",
      "source": [
        "#@title 38.List Unpacking (N to <N mapping)"
      ],
      "metadata": {
        "id": "oHnK7xtkkKoM"
      },
      "execution_count": null,
      "outputs": []
    },
    {
      "cell_type": "code",
      "source": [
        "#@title 39.Printing a List (*)"
      ],
      "metadata": {
        "id": "5MXjd3xIkieL"
      },
      "execution_count": null,
      "outputs": []
    },
    {
      "cell_type": "code",
      "source": [
        "#@title 40.List Slicing"
      ],
      "metadata": {
        "id": "05fSVpKRkoc8"
      },
      "execution_count": null,
      "outputs": []
    },
    {
      "cell_type": "code",
      "source": [
        "#@title 41.List Comprehension"
      ],
      "metadata": {
        "id": "C9igc0NqkuTz"
      },
      "execution_count": null,
      "outputs": []
    },
    {
      "cell_type": "code",
      "source": [
        "#@title 42.Two Dimenstional Lists  (List of Lists)"
      ],
      "metadata": {
        "id": "Z4lXBQV0knD_"
      },
      "execution_count": null,
      "outputs": []
    },
    {
      "cell_type": "code",
      "source": [
        "#@title 43.Zipping two or three lists"
      ],
      "metadata": {
        "id": "OtnBbCUasGXV"
      },
      "execution_count": null,
      "outputs": []
    },
    {
      "cell_type": "code",
      "source": [
        "#@title 44.Applying a map funciton on the lists"
      ],
      "metadata": {
        "id": "dPqwLI6RsLxM"
      },
      "execution_count": null,
      "outputs": []
    }
  ]
}