{
  "nbformat": 4,
  "nbformat_minor": 0,
  "metadata": {
    "colab": {
      "provenance": [],
      "collapsed_sections": [],
      "authorship_tag": "ABX9TyNWm5FsWYWU+ZLOQ6vl0vxx",
      "include_colab_link": true
    },
    "kernelspec": {
      "name": "python3",
      "display_name": "Python 3"
    },
    "language_info": {
      "name": "python"
    }
  },
  "cells": [
    {
      "cell_type": "markdown",
      "metadata": {
        "id": "view-in-github",
        "colab_type": "text"
      },
      "source": [
        "<a href=\"https://colab.research.google.com/github/LakshmiAhala/python_101/blob/main/Assignment_3.ipynb\" target=\"_parent\"><img src=\"https://colab.research.google.com/assets/colab-badge.svg\" alt=\"Open In Colab\"/></a>"
      ]
    },
    {
      "cell_type": "markdown",
      "source": [
        "#Week 3 \n",
        "##Assignment - 3.10\n",
        "##Money Counting Game\n",
        " \n",
        "\n"
      ],
      "metadata": {
        "id": "3pUUVLJCR1Y1"
      }
    },
    {
      "cell_type": "code",
      "execution_count": null,
      "metadata": {
        "id": "YJKyeEbGEieO"
      },
      "outputs": [],
      "source": [
        "qtr= input(\"What is the required number of quarters? :\")\n",
        "dime= input(\"What is the required number of dimes? :\")\n",
        "nic= input(\"What is the required number of nickels? :\")\n",
        "pen= input(\"What is the required number of pennies? :\")\n",
        "\n",
        "total_cash = (int(qtr) * 25) + (int(dime) * 10) + (int(nic) * 20) + (int(pen) * 1)\n",
        "\n",
        "if (total_cash == 100):\n",
        "    print(\"Congrats\")\n",
        "else:\n",
        "    if (total_cash > 100):\n",
        "        print(\"More than\")\n",
        "    elif  (total_cash < 100):\n",
        "        print(\"Less than\")"
      ]
    },
    {
      "cell_type": "markdown",
      "source": [
        "##Assignment 3.11\n",
        "## Book Club Points"
      ],
      "metadata": {
        "id": "Y4ipX5YxioOA"
      }
    },
    {
      "cell_type": "code",
      "source": [
        "books = input(\"How many books did you purchase?\")\n",
        "\n",
        "books=int(books)\n",
        "\n",
        "if books == 0:\n",
        "    print(\"Sorry! No points awarded to you!\")  \n",
        "elif books == 2:\n",
        "    print(\"Wow! You earned 5 points!\")\n",
        "elif books == 4:\n",
        "    print(\"Amazing! You earned 15 points!\")\n",
        "elif books == 6:\n",
        "    print(\"Fabulous! You earned 30 points!\")\n",
        "elif books >= 8:\n",
        "    print(\"Fantastic! You earned 60 points!\")\n",
        "else:\n",
        "    print(\"You've got to read more!\")"
      ],
      "metadata": {
        "id": "8YFV0dzZSN_W"
      },
      "execution_count": null,
      "outputs": []
    }
  ]
}