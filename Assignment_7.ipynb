{
  "nbformat": 4,
  "nbformat_minor": 0,
  "metadata": {
    "colab": {
      "provenance": [],
      "authorship_tag": "ABX9TyNCInH+8cUqUKDnztLOp7H4",
      "include_colab_link": true
    },
    "kernelspec": {
      "name": "python3",
      "display_name": "Python 3"
    },
    "language_info": {
      "name": "python"
    }
  },
  "cells": [
    {
      "cell_type": "markdown",
      "metadata": {
        "id": "view-in-github",
        "colab_type": "text"
      },
      "source": [
        "<a href=\"https://colab.research.google.com/github/LakshmiAhala/python_101/blob/main/Assignment_7.ipynb\" target=\"_parent\"><img src=\"https://colab.research.google.com/assets/colab-badge.svg\" alt=\"Open In Colab\"/></a>"
      ]
    },
    {
      "cell_type": "markdown",
      "source": [
        "# Assignment 7\n",
        "## Exercise 14 on pg 271 in the textbook\n"
      ],
      "metadata": {
        "id": "-dhEIRRFz9ow"
      }
    },
    {
      "cell_type": "markdown",
      "source": [
        "##Write a program that uses nested loops to draw this pattern:"
      ],
      "metadata": {
        "id": "OcywAyHF0WjI"
      }
    },
    {
      "cell_type": "code",
      "execution_count": 1,
      "metadata": {
        "colab": {
          "base_uri": "https://localhost:8080/"
        },
        "id": "nH58TRX2zyF1",
        "outputId": "66a7ec7e-4d5e-4639-e3d6-07ea0bd0f8e9"
      },
      "outputs": [
        {
          "output_type": "stream",
          "name": "stdout",
          "text": [
            "********\n",
            "*******\n",
            "******\n",
            "*****\n",
            "****\n",
            "***\n",
            "**\n",
            "*\n"
          ]
        }
      ],
      "source": [
        "# Introducing the variable\n",
        "i = \"*\"\n",
        "\n",
        "# Outer loop\n",
        "for j in range(1): \n",
        "\n",
        "# Inner loop \n",
        "    for y in range(8, 0, -1):\n",
        "        print(i*y)"
      ]
    }
  ]
}