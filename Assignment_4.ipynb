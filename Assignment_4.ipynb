{
  "nbformat": 4,
  "nbformat_minor": 0,
  "metadata": {
    "colab": {
      "provenance": [],
      "collapsed_sections": [],
      "authorship_tag": "ABX9TyNcvriS2naSEp8FcXSfVQ+c",
      "include_colab_link": true
    },
    "kernelspec": {
      "name": "python3",
      "display_name": "Python 3"
    },
    "language_info": {
      "name": "python"
    }
  },
  "cells": [
    {
      "cell_type": "markdown",
      "metadata": {
        "id": "view-in-github",
        "colab_type": "text"
      },
      "source": [
        "<a href=\"https://colab.research.google.com/github/LakshmiAhala/python_101/blob/main/Assignment_4.ipynb\" target=\"_parent\"><img src=\"https://colab.research.google.com/assets/colab-badge.svg\" alt=\"Open In Colab\"/></a>"
      ]
    },
    {
      "cell_type": "code",
      "execution_count": null,
      "metadata": {
        "id": "bCa1FQsSZa2l"
      },
      "outputs": [],
      "source": [
        "budget = input(\"Please enter your monthly budget: \")\n",
        "budget = int(budget)\n",
        "\n",
        "expense_num = 1\n",
        "total_expense = 0\n",
        "\n",
        "max_expense = input(\"Please enter the number of expenses: \")\n",
        "max_expense = int(max_expense)\n",
        "\n",
        "while (expense_num <= max_expense):    \n",
        "  expense = input(\"Enter the amount for expense \" + str(expense_num) + \": \")\n",
        "  expense = int(expense)\n",
        "  total_expense = total_expense + expense\n",
        "  expense_num = expense_num + 1\n",
        "  \n",
        "difference = budget - total_expense\n",
        "  \n",
        "if budget < total_expense:\n",
        "    print(\"You are \", difference, \" over budget\")\n",
        "elif budget > total_expense:\n",
        "    print(\"You are \", difference, \" under budget\")\n",
        "else:\n",
        "    print(\"You are on budget!\")"
      ]
    }
  ]
}