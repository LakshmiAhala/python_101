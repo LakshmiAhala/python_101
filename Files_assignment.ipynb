{
  "nbformat": 4,
  "nbformat_minor": 0,
  "metadata": {
    "colab": {
      "provenance": [],
      "authorship_tag": "ABX9TyN8Pyptlj3VjSYcH//+0zx3",
      "include_colab_link": true
    },
    "kernelspec": {
      "name": "python3",
      "display_name": "Python 3"
    },
    "language_info": {
      "name": "python"
    }
  },
  "cells": [
    {
      "cell_type": "markdown",
      "metadata": {
        "id": "view-in-github",
        "colab_type": "text"
      },
      "source": [
        "<a href=\"https://colab.research.google.com/github/LakshmiAhala/python_101/blob/main/Files_assignment.ipynb\" target=\"_parent\"><img src=\"https://colab.research.google.com/assets/colab-badge.svg\" alt=\"Open In Colab\"/></a>"
      ]
    },
    {
      "cell_type": "code",
      "execution_count": null,
      "metadata": {
        "colab": {
          "base_uri": "https://localhost:8080/",
          "height": 73
        },
        "id": "O6Jf2TRi9zOE",
        "outputId": "7e4d391e-eaaa-4ba3-8967-d85393e696b0"
      },
      "outputs": [
        {
          "output_type": "display_data",
          "data": {
            "text/plain": [
              "<IPython.core.display.HTML object>"
            ],
            "text/html": [
              "\n",
              "     <input type=\"file\" id=\"files-ae81b65b-7a9b-419a-9bc7-8a91e742a859\" name=\"files[]\" multiple disabled\n",
              "        style=\"border:none\" />\n",
              "     <output id=\"result-ae81b65b-7a9b-419a-9bc7-8a91e742a859\">\n",
              "      Upload widget is only available when the cell has been executed in the\n",
              "      current browser session. Please rerun this cell to enable.\n",
              "      </output>\n",
              "      <script>// Copyright 2017 Google LLC\n",
              "//\n",
              "// Licensed under the Apache License, Version 2.0 (the \"License\");\n",
              "// you may not use this file except in compliance with the License.\n",
              "// You may obtain a copy of the License at\n",
              "//\n",
              "//      http://www.apache.org/licenses/LICENSE-2.0\n",
              "//\n",
              "// Unless required by applicable law or agreed to in writing, software\n",
              "// distributed under the License is distributed on an \"AS IS\" BASIS,\n",
              "// WITHOUT WARRANTIES OR CONDITIONS OF ANY KIND, either express or implied.\n",
              "// See the License for the specific language governing permissions and\n",
              "// limitations under the License.\n",
              "\n",
              "/**\n",
              " * @fileoverview Helpers for google.colab Python module.\n",
              " */\n",
              "(function(scope) {\n",
              "function span(text, styleAttributes = {}) {\n",
              "  const element = document.createElement('span');\n",
              "  element.textContent = text;\n",
              "  for (const key of Object.keys(styleAttributes)) {\n",
              "    element.style[key] = styleAttributes[key];\n",
              "  }\n",
              "  return element;\n",
              "}\n",
              "\n",
              "// Max number of bytes which will be uploaded at a time.\n",
              "const MAX_PAYLOAD_SIZE = 100 * 1024;\n",
              "\n",
              "function _uploadFiles(inputId, outputId) {\n",
              "  const steps = uploadFilesStep(inputId, outputId);\n",
              "  const outputElement = document.getElementById(outputId);\n",
              "  // Cache steps on the outputElement to make it available for the next call\n",
              "  // to uploadFilesContinue from Python.\n",
              "  outputElement.steps = steps;\n",
              "\n",
              "  return _uploadFilesContinue(outputId);\n",
              "}\n",
              "\n",
              "// This is roughly an async generator (not supported in the browser yet),\n",
              "// where there are multiple asynchronous steps and the Python side is going\n",
              "// to poll for completion of each step.\n",
              "// This uses a Promise to block the python side on completion of each step,\n",
              "// then passes the result of the previous step as the input to the next step.\n",
              "function _uploadFilesContinue(outputId) {\n",
              "  const outputElement = document.getElementById(outputId);\n",
              "  const steps = outputElement.steps;\n",
              "\n",
              "  const next = steps.next(outputElement.lastPromiseValue);\n",
              "  return Promise.resolve(next.value.promise).then((value) => {\n",
              "    // Cache the last promise value to make it available to the next\n",
              "    // step of the generator.\n",
              "    outputElement.lastPromiseValue = value;\n",
              "    return next.value.response;\n",
              "  });\n",
              "}\n",
              "\n",
              "/**\n",
              " * Generator function which is called between each async step of the upload\n",
              " * process.\n",
              " * @param {string} inputId Element ID of the input file picker element.\n",
              " * @param {string} outputId Element ID of the output display.\n",
              " * @return {!Iterable<!Object>} Iterable of next steps.\n",
              " */\n",
              "function* uploadFilesStep(inputId, outputId) {\n",
              "  const inputElement = document.getElementById(inputId);\n",
              "  inputElement.disabled = false;\n",
              "\n",
              "  const outputElement = document.getElementById(outputId);\n",
              "  outputElement.innerHTML = '';\n",
              "\n",
              "  const pickedPromise = new Promise((resolve) => {\n",
              "    inputElement.addEventListener('change', (e) => {\n",
              "      resolve(e.target.files);\n",
              "    });\n",
              "  });\n",
              "\n",
              "  const cancel = document.createElement('button');\n",
              "  inputElement.parentElement.appendChild(cancel);\n",
              "  cancel.textContent = 'Cancel upload';\n",
              "  const cancelPromise = new Promise((resolve) => {\n",
              "    cancel.onclick = () => {\n",
              "      resolve(null);\n",
              "    };\n",
              "  });\n",
              "\n",
              "  // Wait for the user to pick the files.\n",
              "  const files = yield {\n",
              "    promise: Promise.race([pickedPromise, cancelPromise]),\n",
              "    response: {\n",
              "      action: 'starting',\n",
              "    }\n",
              "  };\n",
              "\n",
              "  cancel.remove();\n",
              "\n",
              "  // Disable the input element since further picks are not allowed.\n",
              "  inputElement.disabled = true;\n",
              "\n",
              "  if (!files) {\n",
              "    return {\n",
              "      response: {\n",
              "        action: 'complete',\n",
              "      }\n",
              "    };\n",
              "  }\n",
              "\n",
              "  for (const file of files) {\n",
              "    const li = document.createElement('li');\n",
              "    li.append(span(file.name, {fontWeight: 'bold'}));\n",
              "    li.append(span(\n",
              "        `(${file.type || 'n/a'}) - ${file.size} bytes, ` +\n",
              "        `last modified: ${\n",
              "            file.lastModifiedDate ? file.lastModifiedDate.toLocaleDateString() :\n",
              "                                    'n/a'} - `));\n",
              "    const percent = span('0% done');\n",
              "    li.appendChild(percent);\n",
              "\n",
              "    outputElement.appendChild(li);\n",
              "\n",
              "    const fileDataPromise = new Promise((resolve) => {\n",
              "      const reader = new FileReader();\n",
              "      reader.onload = (e) => {\n",
              "        resolve(e.target.result);\n",
              "      };\n",
              "      reader.readAsArrayBuffer(file);\n",
              "    });\n",
              "    // Wait for the data to be ready.\n",
              "    let fileData = yield {\n",
              "      promise: fileDataPromise,\n",
              "      response: {\n",
              "        action: 'continue',\n",
              "      }\n",
              "    };\n",
              "\n",
              "    // Use a chunked sending to avoid message size limits. See b/62115660.\n",
              "    let position = 0;\n",
              "    do {\n",
              "      const length = Math.min(fileData.byteLength - position, MAX_PAYLOAD_SIZE);\n",
              "      const chunk = new Uint8Array(fileData, position, length);\n",
              "      position += length;\n",
              "\n",
              "      const base64 = btoa(String.fromCharCode.apply(null, chunk));\n",
              "      yield {\n",
              "        response: {\n",
              "          action: 'append',\n",
              "          file: file.name,\n",
              "          data: base64,\n",
              "        },\n",
              "      };\n",
              "\n",
              "      let percentDone = fileData.byteLength === 0 ?\n",
              "          100 :\n",
              "          Math.round((position / fileData.byteLength) * 100);\n",
              "      percent.textContent = `${percentDone}% done`;\n",
              "\n",
              "    } while (position < fileData.byteLength);\n",
              "  }\n",
              "\n",
              "  // All done.\n",
              "  yield {\n",
              "    response: {\n",
              "      action: 'complete',\n",
              "    }\n",
              "  };\n",
              "}\n",
              "\n",
              "scope.google = scope.google || {};\n",
              "scope.google.colab = scope.google.colab || {};\n",
              "scope.google.colab._files = {\n",
              "  _uploadFiles,\n",
              "  _uploadFilesContinue,\n",
              "};\n",
              "})(self);\n",
              "</script> "
            ]
          },
          "metadata": {}
        },
        {
          "output_type": "stream",
          "name": "stdout",
          "text": [
            "Saving goldilocks.txt to goldilocks.txt\n"
          ]
        }
      ],
      "source": [
        "#@title Importing a text file - goldilocks.txt\n",
        "from google.colab import files\n",
        "uploaded = files.upload()"
      ]
    },
    {
      "cell_type": "code",
      "source": [
        "#@title Reading the text file = goldilocks.txt\n",
        "with open('goldilocks.txt') as goldilocks_file_obj:\n",
        "  all_text = goldilocks_file_obj.read()\n",
        "print('read() method output: ', type(all_text))\n",
        "print(all_text)"
      ],
      "metadata": {
        "colab": {
          "base_uri": "https://localhost:8080/"
        },
        "id": "C5eyb_PE_19g",
        "outputId": "debfffc6-37c5-4d41-ee29-fa1de56d4d27"
      },
      "execution_count": null,
      "outputs": [
        {
          "output_type": "stream",
          "name": "stdout",
          "text": [
            "read() method output:  <class 'str'>\n",
            "The Story of Goldilocks and the Three Bears Once upon a time, there was a little girl named\n",
            "Goldilocks. She went for a walk in the forest. Pretty soon, she came upon a house. She\n",
            "knocked and, when no one answered, she walked right in. At the table in the kitchen, there were\n",
            "three bowls of porridge. Goldilocks was hungry. She tasted the porridge from the first bowl.\n",
            "\"This porridge is too hot!\" she exclaimed. So, she tasted the porridge from the second bowl.\n",
            "\"This porridge is too cold,\" she said So, she tasted the last bowl of porridge. \"Ahhh, this porridge\n",
            "is just right,\" she said happily and she ate it all up. After she'd eaten the three bears' breakfasts\n",
            "she decided she was feeling a little tired. So, she walked into the living room where she saw\n",
            "three chairs. Goldilocks sat in the first chair to rest her feet. \"This chair is too big!\" she\n",
            "exclaimed. So she sat in the second chair. \"This chair is too big, too!\" she whined. So she tried\n",
            "the last and smallest chair. \"Ahhh, this chair is just right,\" she sighed. But just as she settled\n",
            "down into the chair to rest, it broke into pieces! Goldilocks was very tired by this time, so she\n",
            "went upstairs to the bedroom. She lay down in the first bed, but it was too hard. Then she lay in\n",
            "the second bed, but it was too soft. Then she lay down in the third bed and it was just right.\n",
            "Goldilocks fell asleep. As she was sleeping, the three bears came home. \"Someone's been\n",
            "eating my porridge,\" growled the Papa bear. \"Someone's been eating my porridge,\" said the\n",
            "Mama bear. \"Someone's been eating my porridge and they ate it all up!\" cried the Baby bear.\n",
            "\"Someone's been sitting in my chair,\" growled the Papa bear. \"Someone's been sitting in my\n",
            "chair,\" said the Mama bear. \"Someone's been sitting in my chair and they've broken it all to\n",
            "pieces,\" cried the Baby bear. They decided to look around some more and when they got\n",
            "upstairs to the bedroom, Papa bear growled, \"Someone's been sleeping in my bed,\"\n",
            "\"Someone's been sleeping in my bed, too\" said the Mama bear \"Someone's been sleeping in\n",
            "my bed and she's still there!\" exclaimed Baby bear. Just then, Goldilocks woke up and saw the\n",
            "three bears. She screamed, \"Help!\" And she jumped up and ran out of the room. Goldilocks ran\n",
            "down the stairs, opened the door, and ran away into the forest. And she never returned to the\n",
            "home of the three bears. THE END\n"
          ]
        }
      ]
    },
    {
      "cell_type": "markdown",
      "source": [
        "#BASE CREDIT"
      ],
      "metadata": {
        "id": "nkm4rHFtJU7U"
      }
    },
    {
      "cell_type": "code",
      "source": [
        "#@title Finding 'Papa' in the text file = goldilocks.txt\n",
        "with open('goldilocks.txt') as goldilocks_file_obj:\n",
        "  all_text = goldilocks_file_obj.read()\n",
        "  papa_char = all_text.count('Papa')\n",
        "  print(papa_char)"
      ],
      "metadata": {
        "colab": {
          "base_uri": "https://localhost:8080/"
        },
        "id": "EYDvV_C_H5z6",
        "outputId": "d5012eba-782a-435a-f0bb-58d2224b4032"
      },
      "execution_count": 39,
      "outputs": [
        {
          "output_type": "stream",
          "name": "stdout",
          "text": [
            "3\n"
          ]
        }
      ]
    },
    {
      "cell_type": "code",
      "source": [
        "#@title Finding 'Mama' in the text file = goldilocks.txt\n",
        "with open('goldilocks.txt') as goldilocks_file_obj:\n",
        "  all_text = goldilocks_file_obj.read()\n",
        "  mama_char = all_text.count('Mama')\n",
        "  print(mama_char)"
      ],
      "metadata": {
        "colab": {
          "base_uri": "https://localhost:8080/"
        },
        "id": "bQ0_pMk3I9L5",
        "outputId": "92417a5c-c154-4ebf-9fdc-3f527e90089c"
      },
      "execution_count": 40,
      "outputs": [
        {
          "output_type": "stream",
          "name": "stdout",
          "text": [
            "3\n"
          ]
        }
      ]
    },
    {
      "cell_type": "markdown",
      "source": [
        "#EXTRA CREDIT"
      ],
      "metadata": {
        "id": "MnTHOYrCJZnj"
      }
    },
    {
      "cell_type": "code",
      "source": [
        "#@title Finding the longest line in the text file = goldilocks.txt\n",
        "with open('goldilocks.txt') as goldilocks_file_obj:\n",
        "  all_text = goldilocks_file_obj.read()\n",
        "  max_length = 0\n",
        "  long_line = ' '\n",
        "  file_name = open('goldilocks.txt')\n",
        "  for line_1 in file_name:\n",
        "    if(len(line_1) > max_length):\n",
        "      max_length = len(line_1)\n",
        "      long_line = line_1\n",
        "  print(long_line)"
      ],
      "metadata": {
        "colab": {
          "base_uri": "https://localhost:8080/"
        },
        "id": "thp1-3qxJb8R",
        "outputId": "5398b020-0810-4fba-c88c-7d822c214454"
      },
      "execution_count": 48,
      "outputs": [
        {
          "output_type": "stream",
          "name": "stdout",
          "text": [
            "is just right,\" she said happily and she ate it all up. After she'd eaten the three bears' breakfasts\n",
            "\n"
          ]
        }
      ]
    },
    {
      "cell_type": "code",
      "source": [
        "#@title Finding the shortest  line in the text file = goldilocks.txt\n",
        "with open('goldilocks.txt') as goldilocks_file_obj:\n",
        "  all_text = goldilocks_file_obj.read()\n",
        "  min_length = 0\n",
        "  short_line = ' '\n",
        "  file_name = open('goldilocks.txt')\n",
        "  for line_2 in file_name:\n",
        "    if(len(line_2) > min_length):\n",
        "      max_length = len(line_2)\n",
        "      short_line = line_2\n",
        "  print(short_line)"
      ],
      "metadata": {
        "colab": {
          "base_uri": "https://localhost:8080/"
        },
        "id": "PsZ62DE1nJWG",
        "outputId": "53ff1d51-07b3-40ed-fcb8-e32e1403794f"
      },
      "execution_count": 52,
      "outputs": [
        {
          "output_type": "stream",
          "name": "stdout",
          "text": [
            "home of the three bears. THE END\n"
          ]
        }
      ]
    }
  ]
}