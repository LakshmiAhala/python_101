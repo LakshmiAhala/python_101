{
  "nbformat": 4,
  "nbformat_minor": 0,
  "metadata": {
    "colab": {
      "provenance": [],
      "authorship_tag": "ABX9TyMQELoepXqfUxBir1NG2mqt",
      "include_colab_link": true
    },
    "kernelspec": {
      "name": "python3",
      "display_name": "Python 3"
    },
    "language_info": {
      "name": "python"
    }
  },
  "cells": [
    {
      "cell_type": "markdown",
      "metadata": {
        "id": "view-in-github",
        "colab_type": "text"
      },
      "source": [
        "<a href=\"https://colab.research.google.com/github/LakshmiAhala/python_101/blob/main/Assignment_6.ipynb\" target=\"_parent\"><img src=\"https://colab.research.google.com/assets/colab-badge.svg\" alt=\"Open In Colab\"/></a>"
      ]
    },
    {
      "cell_type": "markdown",
      "source": [
        "## 4.4 (Distance Traveled problem - Page 269 -Problem 4) \n",
        "### using for loop and range "
      ],
      "metadata": {
        "id": "etnGqQY4FkoR"
      }
    },
    {
      "cell_type": "code",
      "execution_count": null,
      "metadata": {
        "id": "i1Z2IwpoFTrm"
      },
      "outputs": [],
      "source": [
        "# initializing the variables\n",
        "\n",
        "mph = input(\"What is the speed of the vehicle in mph? \")\n",
        "mph = int(mph)\n",
        "max_hours = input(\"How many hours has it travelled? \")\n",
        "max_hours = int(max_hours) + 1\n",
        "\n",
        "# setting up the for loop\n",
        "\n",
        "print(\"Hour         Distance Travelled\")\n",
        "for starting_hour in range(1, max_hours):\n",
        "    distance = mph * starting_hour\n",
        "\n",
        "# printing the output    \n",
        "    \n",
        "    print(starting_hour, \"                  \", distance)"
      ]
    },
    {
      "cell_type": "markdown",
      "source": [
        "## 4.6 (Celsius to Fahrenheit Table - Page 270 - Problem 7) \n",
        "## using for loop and range\n",
        "\n"
      ],
      "metadata": {
        "id": "QXUegdJGFv2M"
      }
    },
    {
      "cell_type": "code",
      "source": [
        "# setting up for loop\n",
        "\n",
        "for Celsius in range(1, 21): \n",
        "  Fah = ((9/5) * Celsius) + 32\n",
        "  Fah = float(Fah)\n",
        "  \n",
        "# printing the output \n",
        "  \n",
        "  print(Celsius, \"      \", Fah)"
      ],
      "metadata": {
        "id": "-7xLV-rEGA03"
      },
      "execution_count": null,
      "outputs": []
    }
  ]
}