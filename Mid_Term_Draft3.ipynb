{
  "nbformat": 4,
  "nbformat_minor": 0,
  "metadata": {
    "colab": {
      "provenance": [],
      "authorship_tag": "ABX9TyPv3FjxCmXJbETExFVNBKH+",
      "include_colab_link": true
    },
    "kernelspec": {
      "name": "python3",
      "display_name": "Python 3"
    },
    "language_info": {
      "name": "python"
    }
  },
  "cells": [
    {
      "cell_type": "markdown",
      "metadata": {
        "id": "view-in-github",
        "colab_type": "text"
      },
      "source": [
        "<a href=\"https://colab.research.google.com/github/LakshmiAhala/python_101/blob/main/Mid_Term_Draft3.ipynb\" target=\"_parent\"><img src=\"https://colab.research.google.com/assets/colab-badge.svg\" alt=\"Open In Colab\"/></a>"
      ]
    },
    {
      "cell_type": "code",
      "execution_count": 1,
      "metadata": {
        "colab": {
          "base_uri": "https://localhost:8080/"
        },
        "id": "odSjrqJD0JsO",
        "outputId": "79f0d11b-190b-4044-f4a3-72ad75bd3c85"
      },
      "outputs": [
        {
          "output_type": "stream",
          "name": "stdout",
          "text": [
            "All of the characters entered are numbers: True\n",
            "Total: 10\n",
            "Valid Credit Card Number\n",
            "Valid Visa Card Number\n",
            "Invalid Mastercard Number\n",
            "\n",
            "All of the characters entered are numbers: True\n",
            "Total: 70\n",
            "Valid Credit Card Number\n",
            "Invalid Visa Number\n",
            "Invalid Mastercard Number\n",
            "\n",
            "All of the characters entered are numbers: True\n",
            "Total: 10\n",
            "Valid Credit Card Number\n",
            "Invalid Visa Number\n",
            "Invalid Mastercard Number\n",
            "\n",
            "All of the characters entered are numbers: True\n",
            "Total: 49\n",
            "Invalid Credit Card Number\n",
            "Valid Visa Card Number\n",
            "Invalid Mastercard Number\n",
            "\n",
            "All of the characters entered are numbers: True\n",
            "Total: 43\n",
            "Invalid Credit Card Number\n",
            "Invalid Visa Number\n",
            "Invalid Mastercard Number\n",
            "\n"
          ]
        }
      ],
      "source": [
        "# Part 1\n",
        "\n",
        "def is_credit(my_list):\n",
        "    \n",
        "# Part 2\n",
        "\n",
        "    nums = my_list.isnumeric()\n",
        "    print(\"All of the characters entered are numbers:\", nums)\n",
        "    \n",
        "# Part 3\n",
        "\n",
        "    the_list = [int(x) for x in my_list]\n",
        "    # print(the_list)\n",
        "    \n",
        "# Part 4\n",
        "\n",
        "    total = 0\n",
        "\n",
        "    the_list.reverse()\n",
        "    # print('after reversing: ', the_list)\n",
        "\n",
        "\n",
        "    for x in range(len(the_list)):\n",
        "        n = the_list[x]\n",
        "        if x % 2 == 0:\n",
        "            total=total+n\n",
        "        elif n >= 5:\n",
        "            total = total + (2 * n - 9)\n",
        "        else:\n",
        "            total = total + (n * 2) \n",
        "        \n",
        "    print(\"Total:\", total)\n",
        "    \n",
        "# Part 5\n",
        "\n",
        "    if total % 10 == 0:\n",
        "        print(\"Valid Credit Card Number\")   \n",
        "    else:\n",
        "        print(\"Invalid Credit Card Number\")\n",
        "        \n",
        "# Part 6 (Visa Number) \n",
        "\n",
        "    def is_visa(the_list):\n",
        "        length_1 = len(the_list)\n",
        "        if length_1 == (16) and the_list[0] == 4:        \n",
        "            return \"Valid Visa Card Number\" \n",
        "        else:\n",
        "            return \"Invalid Visa Number\"          \n",
        "\n",
        "    print(is_visa(the_list))   \n",
        "    \n",
        "# Part 7 (Master Card Number)\n",
        "\n",
        "    def is_mastercard(the_list):\n",
        "        length_2 = len(the_list)\n",
        "        if length_2 == 16 and the_list[0] == 5 and the_list[1] <= 5 and the_list[1] >= 0:\n",
        "            return \"Valid Mastercard Number\"\n",
        "        else:\n",
        "            return \"Invalid Mastercard Number\"    \n",
        "        \n",
        "    print(is_mastercard(the_list)) \n",
        "      \n",
        "# Calling is_credit\n",
        "\n",
        "is_credit(\"6011000000000004\")\n",
        "print()\n",
        "is_credit(\"79927398713\" )\n",
        "print()\n",
        "is_credit(\"30000000000004\")\n",
        "print()\n",
        "is_credit(\"6911600873502604\")\n",
        "print()\n",
        "is_credit(\"1234567890\")    \n",
        "print()"
      ]
    }
  ]
}