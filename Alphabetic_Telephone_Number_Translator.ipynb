{
  "nbformat": 4,
  "nbformat_minor": 0,
  "metadata": {
    "colab": {
      "provenance": [],
      "authorship_tag": "ABX9TyNfsRE77Ap/LLELjjc9rRIz",
      "include_colab_link": true
    },
    "kernelspec": {
      "name": "python3",
      "display_name": "Python 3"
    },
    "language_info": {
      "name": "python"
    }
  },
  "cells": [
    {
      "cell_type": "markdown",
      "metadata": {
        "id": "view-in-github",
        "colab_type": "text"
      },
      "source": [
        "<a href=\"https://colab.research.google.com/github/LakshmiAhala/python_101/blob/main/Alphabetic_Telephone_Number_Translator.ipynb\" target=\"_parent\"><img src=\"https://colab.research.google.com/assets/colab-badge.svg\" alt=\"Open In Colab\"/></a>"
      ]
    },
    {
      "cell_type": "code",
      "execution_count": 1,
      "metadata": {
        "colab": {
          "base_uri": "https://localhost:8080/"
        },
        "id": "Iy8qKJES82-v",
        "outputId": "eaecb42c-4650-44ba-c561-fa0b618b7fad"
      },
      "outputs": [
        {
          "output_type": "stream",
          "name": "stdout",
          "text": [
            "Enter the number in the format of XXX-XXX-XXXX in capital letters: 222-NAN-QUAR\n",
            "The telephone number in it's numeric equivalent is:  222-626-7827\n"
          ]
        }
      ],
      "source": [
        "#@title 5. Alphabetic Telephone Number Translator  (Assignment) (Page 519)\n",
        "\n",
        "tel_num = input(\"Enter the number in the format of XXX-XXX-XXXX in capital letters: \")\n",
        "\n",
        "new_num = \" \"\n",
        "\n",
        "for digit in tel_num:\n",
        "    if (digit.isalpha()):\n",
        "        if digit in ('ABC'):\n",
        "           new_num += '2'\n",
        "        elif digit in('DEF'):\n",
        "           new_num += '3'\n",
        "        elif digit in ('GHI'):\n",
        "            new_num += '4'\n",
        "        elif digit in ('JKL'):\n",
        "            new_num += '5'\n",
        "        elif digit in ('MNO'):\n",
        "            new_num += '6'\n",
        "        elif digit in ('PQRS'):\n",
        "            new_num += '7'\n",
        "        elif digit in ('TUV'):\n",
        "            new_num += '8'\n",
        "        elif digit in ('WXYZ'):\n",
        "            new_num += '9'     \n",
        "    else:\n",
        "        new_num += digit\n",
        "\n",
        "print (\"The telephone number in it's numeric equivalent is:\", new_num)        "
      ]
    }
  ]
}