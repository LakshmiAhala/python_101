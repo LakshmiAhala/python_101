{
  "nbformat": 4,
  "nbformat_minor": 0,
  "metadata": {
    "colab": {
      "provenance": [],
      "authorship_tag": "ABX9TyO1gtKeECyerxZlD58hCn4i",
      "include_colab_link": true
    },
    "kernelspec": {
      "name": "python3",
      "display_name": "Python 3"
    },
    "language_info": {
      "name": "python"
    }
  },
  "cells": [
    {
      "cell_type": "markdown",
      "metadata": {
        "id": "view-in-github",
        "colab_type": "text"
      },
      "source": [
        "<a href=\"https://colab.research.google.com/github/LakshmiAhala/python_101/blob/main/Assignment_17.ipynb\" target=\"_parent\"><img src=\"https://colab.research.google.com/assets/colab-badge.svg\" alt=\"Open In Colab\"/></a>"
      ]
    },
    {
      "cell_type": "code",
      "source": [
        "# Opening the text file\n",
        "file_name = 'fruits.txt'\n",
        "file_obj = open(file_name)\n",
        "\n",
        "# Creating an empty dictionary\n",
        "fruits_dict = {}\n",
        "\n",
        "# Stripping off the empty space and new line character\n",
        "for line in file_obj:\n",
        "  line = line.strip()\n",
        "  words = line.split(\"  \")\n",
        "  #print(words)\n",
        "\n",
        "# Checking and adding the number of appearances a word has in the text file\n",
        "  for word in words:\n",
        "    if word in fruits_dict:\n",
        "      fruits_dict[word] = fruits_dict[word] + 1\n",
        "\n",
        "    else:\n",
        "      fruits_dict[word] = 1\n",
        "#print(fruits_dict)\n",
        "\n",
        "# Printing the output \n",
        "for k,v in fruits_dict.items():\n",
        "  print('Key: ', k,',', 'Value: ', v)"
      ],
      "metadata": {
        "colab": {
          "base_uri": "https://localhost:8080/"
        },
        "id": "p3n6_OgloQuX",
        "outputId": "80657ac7-0cb4-4e90-dc03-0a55a2183f48"
      },
      "execution_count": 41,
      "outputs": [
        {
          "output_type": "stream",
          "name": "stdout",
          "text": [
            "Key:  Apple , Value:  2\n",
            "Key:  Banana , Value:  2\n",
            "Key:  Watermelon , Value:  1\n",
            "Key:  Sapota , Value:  2\n",
            "Key:  Guava , Value:  1\n"
          ]
        }
      ]
    }
  ]
}