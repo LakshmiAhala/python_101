{
  "nbformat": 4,
  "nbformat_minor": 0,
  "metadata": {
    "colab": {
      "provenance": [],
      "authorship_tag": "ABX9TyMojAD3DvCJG6MPt123OjZc",
      "include_colab_link": true
    },
    "kernelspec": {
      "name": "python3",
      "display_name": "Python 3"
    },
    "language_info": {
      "name": "python"
    }
  },
  "cells": [
    {
      "cell_type": "markdown",
      "metadata": {
        "id": "view-in-github",
        "colab_type": "text"
      },
      "source": [
        "<a href=\"https://colab.research.google.com/github/LakshmiAhala/python_101/blob/main/Python_Mid_Term_Project.ipynb\" target=\"_parent\"><img src=\"https://colab.research.google.com/assets/colab-badge.svg\" alt=\"Open In Colab\"/></a>"
      ]
    },
    {
      "cell_type": "code",
      "source": [
        "# Part 1\n",
        "my_list = '5419190601507272'\n",
        "the_list = [int(x) for x in my_list]\n",
        "print(the_list)\n",
        "\n",
        "# Part 2\n",
        "even_list = my_list[-2], my_list[-4],my_list[-6],my_list[-8],my_list[-10],my_list[-12],my_list[-14],my_list[-16]\n",
        "even_list = [int(x) for x in even_list]\n",
        "print(even_list)\n",
        "\n",
        "# Part 3\n",
        "odd_list = my_list[-1], my_list[-3],my_list[-5],my_list[-7],my_list[-9],my_list[-11],my_list[-13],my_list[-15]\n",
        "odd_list = [int(y) for y in odd_list]\n",
        "print(odd_list)\n",
        "\n",
        "# Part 4\n",
        "even_double = [a*2 for a in even_list]\n",
        "print(even_double)\n",
        "\n",
        "# Part 5\n",
        "even_sum1 = [item-9 for item in even_double if item > 9]\n",
        "print(even_sum1)\n",
        "even_sum2 = [item for item in even_double if item < 9]\n",
        "print(even_sum2)\n",
        "## Sir, I did item-9 because the greatest single digit number is 9. So, when you add the digits of any number, it will add up to 9. So, 9 minus the number gave me the answer. \n",
        "\n",
        "# Part 6\n",
        "even_total = sum(even_sum1) + sum(even_sum2)\n",
        "odd_total = sum(odd_list)\n",
        "grand_total = even_total + odd_total\n",
        "print(grand_total)\n",
        "\n",
        "# Part 7\n",
        "\n",
        "if grand_total % 10 == 0:\n",
        "    print(\"Valid Credit Card Number\")\n",
        "    \n",
        "else:\n",
        "    print(\"Invalid Credit Card Number\")"
      ],
      "metadata": {
        "id": "QuYoo2UEjDQ4"
      },
      "execution_count": null,
      "outputs": []
    }
  ]
}